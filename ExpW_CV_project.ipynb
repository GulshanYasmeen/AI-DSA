{
  "nbformat": 4,
  "nbformat_minor": 0,
  "metadata": {
    "colab": {
      "provenance": [],
      "gpuType": "T4",
      "include_colab_link": true
    },
    "kernelspec": {
      "name": "python3",
      "display_name": "Python 3"
    },
    "language_info": {
      "name": "python"
    },
    "accelerator": "GPU"
  },
  "cells": [
    {
      "cell_type": "markdown",
      "metadata": {
        "id": "view-in-github",
        "colab_type": "text"
      },
      "source": [
        "<a href=\"https://colab.research.google.com/github/GulshanYasmeen/AI-DSA/blob/main/ExpW_CV_project.ipynb\" target=\"_parent\"><img src=\"https://colab.research.google.com/assets/colab-badge.svg\" alt=\"Open In Colab\"/></a>"
      ]
    },
    {
      "cell_type": "markdown",
      "source": [
        "## Importing Libraries"
      ],
      "metadata": {
        "id": "BWmj069m0x2F"
      }
    },
    {
      "cell_type": "code",
      "source": [
        "import pandas as pd\n",
        "import numpy as np\n",
        "import os\n",
        "import tensorflow as tf\n",
        "import cv2\n",
        "import matplotlib.pyplot as plt\n",
        "from scipy import stats\n",
        "from collections import Counter\n",
        "from keras.models import model_from_json\n",
        "from sklearn.metrics import confusion_matrix, classification_report,ConfusionMatrixDisplay\n",
        "from sklearn.model_selection import train_test_split\n",
        "from google.colab import drive\n",
        "from keras.models import Sequential\n",
        "from keras.layers import Conv2D, MaxPooling2D, Dense, Dropout, Flatten\n",
        "from keras.optimizers import Adam\n",
        "from keras.preprocessing.image import ImageDataGenerator\n",
        "from keras.utils import to_categorical\n",
        "from sklearn.utils import shuffle"
      ],
      "metadata": {
        "id": "bLYcmymLoh6v"
      },
      "execution_count": 1,
      "outputs": []
    },
    {
      "cell_type": "markdown",
      "source": [
        "Accessing Dataset from Drive and Extracting Dataset\n"
      ],
      "metadata": {
        "id": "Czlk872p1BaT"
      }
    },
    {
      "cell_type": "code",
      "source": [
        "from google.colab import drive\n",
        "\n",
        "drive.mount('/content/drive')"
      ],
      "metadata": {
        "colab": {
          "base_uri": "https://localhost:8080/"
        },
        "id": "6IH3-EQ0FLjM",
        "outputId": "085469a2-0dcf-4046-ce2c-b3b374d0de93"
      },
      "execution_count": 2,
      "outputs": [
        {
          "output_type": "stream",
          "name": "stdout",
          "text": [
            "Mounted at /content/drive\n"
          ]
        }
      ]
    },
    {
      "cell_type": "code",
      "source": [
        "import zipfile\n",
        "with zipfile.ZipFile('/content/drive/MyDrive/facial_expression.zip','r') as zip_file:\n",
        "  zip_file.extractall('/content/extracted_dataset')"
      ],
      "metadata": {
        "id": "safCCnKOIO7s"
      },
      "execution_count": 3,
      "outputs": []
    },
    {
      "cell_type": "markdown",
      "source": [
        "Creating A dictionary to save Folder names as Numeric values"
      ],
      "metadata": {
        "id": "1wdzrCeO1PMR"
      }
    },
    {
      "cell_type": "code",
      "source": [
        "labels_name = {0:'sadness', 1:'fear', 2:'neutral', 3:'anger', 4:'happiness', 5:'disgust', 6:'surprise'}\n"
      ],
      "metadata": {
        "id": "1J46DWsdspYV"
      },
      "execution_count": 4,
      "outputs": []
    },
    {
      "cell_type": "code",
      "source": [
        "\n",
        "\n",
        "image_path = '/content/extracted_dataset/Dataset/train/anger/10047185.png'\n",
        "height, width, channels = cv2.imread(image_path).shape\n",
        "print(f\"Image size: {width} x {height}, Channels: {channels}\")\n",
        "\n"
      ],
      "metadata": {
        "id": "IezSBFm-rIaz",
        "outputId": "5120d984-b72c-4cbf-c53b-7f84a049f474",
        "colab": {
          "base_uri": "https://localhost:8080/"
        }
      },
      "execution_count": 6,
      "outputs": [
        {
          "output_type": "stream",
          "name": "stdout",
          "text": [
            "Image size: 48 x 48, Channels: 3\n"
          ]
        }
      ]
    },
    {
      "cell_type": "markdown",
      "source": [
        "Reading all images from Training Dataset and resizing them"
      ],
      "metadata": {
        "id": "H2-5iqZZ1YsR"
      }
    },
    {
      "cell_type": "code",
      "source": [
        "DataPath = '/content/extracted_dataset/Dataset/train'\n",
        "targetImageSize = (128, 128)\n",
        "\n",
        "for labels in labels_name:\n",
        "    img_path = os.path.join(DataPath, labels_name[labels])\n",
        "    for image in os.listdir(img_path):\n",
        "        ImagePath = os.path.join(img_path, image)\n",
        "        image_arr = cv2.imread(ImagePath)\n",
        "\n",
        "        # Resize the image & convert to RGB\n",
        "        image_arr = cv2.resize(image_arr, targetImageSize)\n",
        "        RGB_image = cv2.cvtColor(image_arr, cv2.COLOR_BGR2RGB)\n",
        "\n",
        "        plt.imshow(RGB_image)\n",
        "        plt.show()\n",
        "        break\n",
        "    break"
      ],
      "metadata": {
        "colab": {
          "base_uri": "https://localhost:8080/",
          "height": 434
        },
        "id": "alquE0hx8iRJ",
        "outputId": "a7bffb98-b9a7-4bb1-8514-35233d7ac404"
      },
      "execution_count": 7,
      "outputs": [
        {
          "output_type": "display_data",
          "data": {
            "text/plain": [
              "<Figure size 640x480 with 1 Axes>"
            ],
            "image/png": "[encoded data removed]"
          },
          "metadata": {}
        }
      ]
    },
    {
      "cell_type": "markdown",
      "source": [
        "Function to check if images are blank(black, white) and discarding them from array"
      ],
      "metadata": {
        "id": "pRMqQpfH2Zxp"
      }
    },
    {
      "cell_type": "code",
      "source": [
        "def blank_image(RGB_image):\n",
        "    # Calculate mean pixel value\n",
        "    PixelMean = np.mean(RGB_image)\n",
        "\n",
        "    # Check if the image is not blank (not too bright or too dark)\n",
        "    return PixelMean <= 20 or PixelMean >= 235"
      ],
      "metadata": {
        "id": "vk7nujvCIyBu"
      },
      "execution_count": 8,
      "outputs": []
    },
    {
      "cell_type": "code",
      "source": [
        "def training_data():\n",
        "    img_paths, labels = [], []\n",
        "    for label_num, label_name in labels_name.items():\n",
        "        path = os.path.join(DataPath, label_name)\n",
        "        for image_file in os.listdir(path):\n",
        "            image_path = os.path.join(path, image_file)\n",
        "            image = cv2.imread(image_path)\n",
        "            if image is not None and not blank_image(RGB_image):\n",
        "                img_paths.append(image_path)\n",
        "                labels.append(label_num)\n",
        "\n",
        "    img_paths = np.array(img_paths)\n",
        "    labels = np.array(labels)\n",
        "\n",
        "    return img_paths, labels\n",
        "\n",
        "img_paths, labels = training_data()\n",
        "\n",
        "# Function to count the total number of images\n",
        "def count_total_images(img_paths):\n",
        "    total_images = len(img_paths)\n",
        "    return total_images\n",
        "\n",
        "total_images = count_total_images(img_paths)\n",
        "\n",
        "print(\"Total number of images in the dataset:\", total_images)"
      ],
      "metadata": {
        "colab": {
          "base_uri": "https://localhost:8080/"
        },
        "id": "1gGt8QodGbKO",
        "outputId": "73bca665-3ae7-479d-abe4-301be8feda9e"
      },
      "execution_count": 9,
      "outputs": [
        {
          "output_type": "stream",
          "name": "stdout",
          "text": [
            "Total number of images in the dataset: 32298\n"
          ]
        }
      ]
    },
    {
      "cell_type": "markdown",
      "source": [
        "Creating Dataframe"
      ],
      "metadata": {
        "id": "U2gv9gOS329p"
      }
    },
    {
      "cell_type": "code",
      "source": [
        "# function to show the full value of 'image_path' in output\n",
        "pd.set_option('display.max_colwidth', None)\n",
        "\n",
        "# Function to create DataFrame with image paths and labels\n",
        "def Dataframe(img_paths, labels):\n",
        "    df = pd.DataFrame({\n",
        "        'image_path': img_paths,\n",
        "        'label': labels.astype(int)\n",
        "    })\n",
        "    return df\n",
        "\n",
        "df = Dataframe(img_paths, labels)\n",
        "df['label'] = df['label'].astype(str)\n",
        "\n",
        "print(df.tail(5))"
      ],
      "metadata": {
        "colab": {
          "base_uri": "https://localhost:8080/"
        },
        "id": "wMhICJyQHi-Y",
        "outputId": "554c36be-8302-4da7-cf6a-763067cbc824"
      },
      "execution_count": 10,
      "outputs": [
        {
          "output_type": "stream",
          "name": "stdout",
          "text": [
            "                                                           image_path label\n",
            "32293  /content/extracted_dataset/Dataset/train/surprise/96336082.png     6\n",
            "32294  /content/extracted_dataset/Dataset/train/surprise/90653068.png     6\n",
            "32295   /content/extracted_dataset/Dataset/train/surprise/5257183.png     6\n",
            "32296  /content/extracted_dataset/Dataset/train/surprise/19711115.png     6\n",
            "32297  /content/extracted_dataset/Dataset/train/surprise/89683797.png     6\n"
          ]
        }
      ]
    },
    {
      "cell_type": "markdown",
      "source": [
        "Spliting training data into training and validation data 80% training & 20% Validation"
      ],
      "metadata": {
        "id": "6hVTMyqr45K6"
      }
    },
    {
      "cell_type": "code",
      "source": [
        "# splitting dataframe\n",
        "X = df['image_path']\n",
        "y = df['label']\n",
        "\n",
        "# Split the data into training and validation sets (80% training, 20% validation)\n",
        "train_df, val_df = train_test_split(df, test_size=0.2, random_state=42)\n",
        "\n",
        "print(\"Total Training samples:\", len(train_df))\n",
        "print(\"Total Validation samples:\", len(val_df))"
      ],
      "metadata": {
        "colab": {
          "base_uri": "https://localhost:8080/"
        },
        "id": "lw52CE6HKt6a",
        "outputId": "f2b3bf4d-b2c9-4382-eca1-3ea63d777d75"
      },
      "execution_count": 11,
      "outputs": [
        {
          "output_type": "stream",
          "name": "stdout",
          "text": [
            "Total Training samples: 25838\n",
            "Total Validation samples: 6460\n"
          ]
        }
      ]
    },
    {
      "cell_type": "markdown",
      "source": [
        "Applying Data Generator to Rescaling to Image and data augmentation"
      ],
      "metadata": {
        "id": "oYbddLmF5w4i"
      }
    },
    {
      "cell_type": "code",
      "source": [
        "# Initialize image data generator with rescaling\n",
        "training_data_genr = ImageDataGenerator(\n",
        "    rescale=1./255,\n",
        "    rotation_range=15,\n",
        "    width_shift_range=0.1,\n",
        "    height_shift_range=0.1,\n",
        "    shear_range=0.2,\n",
        "    zoom_range=0.2,\n",
        "    horizontal_flip=True\n",
        ")\n",
        "\n",
        "# Initialize image data generator for validation data\n",
        "validation_data_genr = ImageDataGenerator(\n",
        "    rescale=1./255,\n",
        "    rotation_range=15,\n",
        "    width_shift_range=0.1,\n",
        "    height_shift_range=0.1,\n",
        "    shear_range=0.2,\n",
        "    zoom_range=0.2,\n",
        "    horizontal_flip=True\n",
        ")\n",
        "\n",
        "# Create data generators using the flow_from_dataframe method for both training and validation data\n",
        "train_generator = training_data_genr.flow_from_dataframe(\n",
        "    train_df,\n",
        "    directory=None,\n",
        "    x_col='image_path',\n",
        "    y_col='label',\n",
        "    target_size=(128, 128),\n",
        "    batch_size=128,\n",
        "    class_mode='categorical'\n",
        ")\n",
        "\n",
        "validation_generator = validation_data_genr.flow_from_dataframe(\n",
        "    val_df,\n",
        "    directory=None,\n",
        "    x_col='image_path',\n",
        "    y_col='label',\n",
        "    target_size=(128, 128),\n",
        "    batch_size=128,\n",
        "    class_mode='categorical'\n",
        ")\n"
      ],
      "metadata": {
        "colab": {
          "base_uri": "https://localhost:8080/"
        },
        "id": "1qKUR1SMKGnB",
        "outputId": "c9fb7791-9a2b-43c8-b1b9-20b70a5bf197"
      },
      "execution_count": 12,
      "outputs": [
        {
          "output_type": "stream",
          "name": "stdout",
          "text": [
            "Found 25838 validated image filenames belonging to 7 classes.\n",
            "Found 6460 validated image filenames belonging to 7 classes.\n"
          ]
        }
      ]
    },
    {
      "cell_type": "markdown",
      "source": [
        "Creating a CNN model"
      ],
      "metadata": {
        "id": "6q1N_LaS7xUW"
      }
    },
    {
      "cell_type": "code",
      "source": [
        "# create model structure\n",
        "emotion_cnn_model = Sequential()\n",
        "\n",
        "emotion_cnn_model.add(Conv2D(64, kernel_size=(3, 3), activation='relu', input_shape=(128, 128, 3)))\n",
        "emotion_cnn_model.add(Conv2D(128, kernel_size=(3, 3), activation='relu'))\n",
        "\n",
        "emotion_cnn_model.add(MaxPooling2D(pool_size=(2, 2)))\n",
        "emotion_cnn_model.add(Dropout(0.25))  ### to avoid overfitting\n",
        "\n",
        "emotion_cnn_model.add(Conv2D(256, kernel_size=(3, 3), activation='relu'))\n",
        "emotion_cnn_model.add(MaxPooling2D(pool_size=(2, 2)))\n",
        "\n",
        "emotion_cnn_model.add(Conv2D(512, kernel_size=(3, 3), activation='relu'))\n",
        "emotion_cnn_model.add(MaxPooling2D(pool_size=(2, 2)))\n",
        "emotion_cnn_model.add(Dropout(0.25))\n",
        "\n",
        "emotion_cnn_model.add(Flatten())\n",
        "emotion_cnn_model.add(Dense(1024, activation='relu'))\n",
        "emotion_cnn_model.add(Dropout(0.5))\n",
        "emotion_cnn_model.add(Dense(7, activation='softmax'))\n",
        "\n",
        "cv2.ocl.setUseOpenCL(False)\n",
        "\n",
        "emotion_cnn_model.compile(loss='categorical_crossentropy', optimizer=Adam(lr=0.001, decay=1e-6), metrics=['accuracy'])"
      ],
      "metadata": {
        "colab": {
          "base_uri": "https://localhost:8080/"
        },
        "id": "kOq2GdWdShIi",
        "outputId": "d5a1ddde-8fa4-4384-ea85-14687fe9ea8f"
      },
      "execution_count": 13,
      "outputs": [
        {
          "output_type": "stream",
          "name": "stderr",
          "text": [
            "/usr/local/lib/python3.10/dist-packages/keras/optimizers/legacy/adam.py:117: UserWarning: The `lr` argument is deprecated, use `learning_rate` instead.\n",
            "  super().__init__(name, **kwargs)\n"
          ]
        }
      ]
    },
    {
      "cell_type": "markdown",
      "source": [
        "Training Our Model on our preprocessed Dataset"
      ],
      "metadata": {
        "id": "Pjso9deJ71Se"
      }
    },
    {
      "cell_type": "code",
      "source": [
        "# Train your model using model.fit with data generators\n",
        "model_history = emotion_cnn_model.fit(\n",
        "    train_generator,\n",
        "    epochs=3,\n",
        "    validation_data=validation_generator,\n",
        "    #callbacks=checkpointer\n",
        ")\n"
      ],
      "metadata": {
        "id": "BfaMnA0LtcPK",
        "colab": {
          "base_uri": "https://localhost:8080/"
        },
        "outputId": "d9ec85a2-9b24-41cb-c7b3-567cfe29d52e"
      },
      "execution_count": 14,
      "outputs": [
        {
          "output_type": "stream",
          "name": "stdout",
          "text": [
            "Epoch 1/3\n",
            "202/202 [==============================] - 217s 975ms/step - loss: 1.8592 - accuracy: 0.2566 - val_loss: 1.7716 - val_accuracy: 0.2638\n",
            "Epoch 2/3\n",
            "202/202 [==============================] - 184s 913ms/step - loss: 1.7401 - accuracy: 0.2901 - val_loss: 1.7425 - val_accuracy: 0.2825\n",
            "Epoch 3/3\n",
            "202/202 [==============================] - 184s 911ms/step - loss: 1.7134 - accuracy: 0.3098 - val_loss: 1.7008 - val_accuracy: 0.3209\n"
          ]
        }
      ]
    },
    {
      "cell_type": "code",
      "source": [
        "# save model structure in jason file\n",
        "model_json = emotion_cnn_model.to_json()\n",
        "with open(\"emotion_cnn_model.json\", \"w\") as json_file:\n",
        "    json_file.write(model_json)\n",
        "\n",
        "# save trained model weight in .h5 file\n",
        "emotion_cnn_model.save_weights('emotion_cnn_model.h5')"
      ],
      "metadata": {
        "id": "Eo0SQ6dmlbih"
      },
      "execution_count": 15,
      "outputs": []
    },
    {
      "cell_type": "markdown",
      "source": [
        "Ploting Line graph to show Accuracy and Loss"
      ],
      "metadata": {
        "id": "C-1cDXyP78o-"
      }
    },
    {
      "cell_type": "code",
      "source": [
        "def loss_plot_graph(model_history):\n",
        "  plt.plot(model_history.history[\"loss\"],'r', label=\"Training Loss\")\n",
        "  plt.plot(model_history.history[\"accuracy\"],'b', label=\"Accuracy\")\n",
        "  plt.legend()\n",
        "\n",
        "loss_plot_graph(model_history)"
      ],
      "metadata": {
        "id": "GSOOvC7jujVD",
        "colab": {
          "base_uri": "https://localhost:8080/",
          "height": 430
        },
        "outputId": "d3964d39-4999-4fb0-b6bd-40110d1a7103"
      },
      "execution_count": 16,
      "outputs": [
        {
          "output_type": "display_data",
          "data": {
            "text/plain": [
              "<Figure size 640x480 with 1 Axes>"
            ],
            "image/png": "[encoded data removed]"
          },
          "metadata": {}
        }
      ]
    },
    {
      "cell_type": "markdown",
      "source": [
        "Evaluating Mode"
      ],
      "metadata": {
        "id": "q7B0RXjY8FEE"
      }
    },
    {
      "cell_type": "code",
      "source": [
        "labels_name = {0:'sadness', 1:'fear', 2:'neutral', 3:'anger', 4:'happiness', 5:'disgust', 6:'surprise'}\n",
        "\n",
        "# load json and create model\n",
        "json_file = open('/content/emotion_cnn_model.json', 'r')\n",
        "loaded_model_json = json_file.read()\n",
        "json_file.close()\n",
        "emotion_cnn_model = model_from_json(loaded_model_json)\n",
        "\n",
        "# load weights into new model\n",
        "emotion_cnn_model.load_weights(\"/content/emotion_cnn_model.h5\")\n",
        "print(\"Loaded model from disk\")\n",
        "\n"
      ],
      "metadata": {
        "colab": {
          "base_uri": "https://localhost:8080/"
        },
        "id": "F60lnrKkCn4s",
        "outputId": "87a66b84-d641-4539-bcdc-038d4021cff7"
      },
      "execution_count": 17,
      "outputs": [
        {
          "output_type": "stream",
          "name": "stdout",
          "text": [
            "Loaded model from disk\n"
          ]
        }
      ]
    },
    {
      "cell_type": "code",
      "source": [
        "import os\n",
        "import cv2\n",
        "\n",
        "test_path = '/content/extracted_dataset/Dataset/test'\n",
        "target_size = (128, 128)\n",
        "\n",
        "for labels in labels_name:\n",
        "    path = os.path.join(test_path, labels_name[labels])\n",
        "    for image in os.listdir(path):\n",
        "        image_path = os.path.join(path, image)\n",
        "        image_arr = cv2.imread(image_path)\n",
        "\n",
        "        # Resize the image to the target size (128x128)\n",
        "        image_arr = cv2.resize(image_arr, target_size)\n",
        "\n",
        "        # Convert BGR to RGB\n",
        "        image_arr_rgb = cv2.cvtColor(image_arr, cv2.COLOR_BGR2RGB)\n",
        "\n",
        "        # Save the resized and converted image\n",
        "        new_image_path = os.path.join(path, f\"resized_{image}\")\n",
        "        cv2.imwrite(new_image_path, image_arr_rgb)\n",
        "\n",
        "print(\"All images resized and converted to RGB.\")\n"
      ],
      "metadata": {
        "colab": {
          "base_uri": "https://localhost:8080/"
        },
        "id": "wrjWpO6FQuvl",
        "outputId": "3b56204d-6633-4fa3-e648-7e6a505a66ed"
      },
      "execution_count": 18,
      "outputs": [
        {
          "output_type": "stream",
          "name": "stdout",
          "text": [
            "All images resized and converted to RGB.\n"
          ]
        }
      ]
    },
    {
      "cell_type": "code",
      "source": [
        "# Initialize image data generator with rescaling\n",
        "test_data_genr = ImageDataGenerator(rescale=1./255)\n",
        "\n",
        "# Preprocess all test images\n",
        "test_generator = test_data_genr.flow_from_directory(\n",
        "        '/content/extracted_dataset/Dataset/test',\n",
        "        target_size=(128, 128),\n",
        "        batch_size=128,\n",
        "        color_mode=\"grayscale\",\n",
        "        class_mode='categorical')\n",
        "\n",
        "# do prediction on test data\n",
        "predictions = emotion_cnn_model.predict_generator(test_generator)\n",
        "\n",
        "# see predictions\n",
        "for result in predictions:\n",
        "  max_index = int(np.argmax(result))\n",
        "  print(labels_name[max_index])"
      ],
      "metadata": {
        "colab": {
          "base_uri": "https://localhost:8080/",
          "height": 1000
        },
        "id": "nESEgob_Q-UZ",
        "outputId": "7bdcc6de-8881-4eb6-af51-9830772d8698"
      },
      "execution_count": 20,
      "outputs": [
        {
          "output_type": "stream",
          "name": "stdout",
          "text": [
            "Found 7178 images belonging to 7 classes.\n"
          ]
        },
        {
          "output_type": "stream",
          "name": "stderr",
          "text": [
            "<ipython-input-20-b54fed3aec03>:13: UserWarning: `Model.predict_generator` is deprecated and will be removed in a future version. Please use `Model.predict`, which supports generators.\n",
            "  predictions = emotion_cnn_model.predict_generator(test_generator)\n"
          ]
        },
        {
          "output_type": "error",
          "ename": "InvalidArgumentError",
          "evalue": "ignored",
          "traceback": [
            "\u001b[0;31m---------------------------------------------------------------------------\u001b[0m",
            "\u001b[0;31mInvalidArgumentError\u001b[0m                      Traceback (most recent call last)",
            "\u001b[0;32m<ipython-input-20-b54fed3aec03>\u001b[0m in \u001b[0;36m<cell line: 13>\u001b[0;34m()\u001b[0m\n\u001b[1;32m     11\u001b[0m \u001b[0;34m\u001b[0m\u001b[0m\n\u001b[1;32m     12\u001b[0m \u001b[0;31m# do prediction on test data\u001b[0m\u001b[0;34m\u001b[0m\u001b[0;34m\u001b[0m\u001b[0m\n\u001b[0;32m---> 13\u001b[0;31m \u001b[0mpredictions\u001b[0m \u001b[0;34m=\u001b[0m \u001b[0memotion_cnn_model\u001b[0m\u001b[0;34m.\u001b[0m\u001b[0mpredict_generator\u001b[0m\u001b[0;34m(\u001b[0m\u001b[0mtest_generator\u001b[0m\u001b[0;34m)\u001b[0m\u001b[0;34m\u001b[0m\u001b[0;34m\u001b[0m\u001b[0m\n\u001b[0m\u001b[1;32m     14\u001b[0m \u001b[0;34m\u001b[0m\u001b[0m\n\u001b[1;32m     15\u001b[0m \u001b[0;31m# see predictions\u001b[0m\u001b[0;34m\u001b[0m\u001b[0;34m\u001b[0m\u001b[0m\n",
            "\u001b[0;32m/usr/local/lib/python3.10/dist-packages/keras/engine/training.py\u001b[0m in \u001b[0;36mpredict_generator\u001b[0;34m(self, generator, steps, callbacks, max_queue_size, workers, use_multiprocessing, verbose)\u001b[0m\n\u001b[1;32m   2709\u001b[0m             \u001b[0mstacklevel\u001b[0m\u001b[0;34m=\u001b[0m\u001b[0;36m2\u001b[0m\u001b[0;34m,\u001b[0m\u001b[0;34m\u001b[0m\u001b[0;34m\u001b[0m\u001b[0m\n\u001b[1;32m   2710\u001b[0m         )\n\u001b[0;32m-> 2711\u001b[0;31m         return self.predict(\n\u001b[0m\u001b[1;32m   2712\u001b[0m             \u001b[0mgenerator\u001b[0m\u001b[0;34m,\u001b[0m\u001b[0;34m\u001b[0m\u001b[0;34m\u001b[0m\u001b[0m\n\u001b[1;32m   2713\u001b[0m             \u001b[0msteps\u001b[0m\u001b[0;34m=\u001b[0m\u001b[0msteps\u001b[0m\u001b[0;34m,\u001b[0m\u001b[0;34m\u001b[0m\u001b[0;34m\u001b[0m\u001b[0m\n",
            "\u001b[0;32m/usr/local/lib/python3.10/dist-packages/keras/utils/traceback_utils.py\u001b[0m in \u001b[0;36merror_handler\u001b[0;34m(*args, **kwargs)\u001b[0m\n\u001b[1;32m     68\u001b[0m             \u001b[0;31m# To get the full stack trace, call:\u001b[0m\u001b[0;34m\u001b[0m\u001b[0;34m\u001b[0m\u001b[0m\n\u001b[1;32m     69\u001b[0m             \u001b[0;31m# `tf.debugging.disable_traceback_filtering()`\u001b[0m\u001b[0;34m\u001b[0m\u001b[0;34m\u001b[0m\u001b[0m\n\u001b[0;32m---> 70\u001b[0;31m             \u001b[0;32mraise\u001b[0m \u001b[0me\u001b[0m\u001b[0;34m.\u001b[0m\u001b[0mwith_traceback\u001b[0m\u001b[0;34m(\u001b[0m\u001b[0mfiltered_tb\u001b[0m\u001b[0;34m)\u001b[0m \u001b[0;32mfrom\u001b[0m \u001b[0;32mNone\u001b[0m\u001b[0;34m\u001b[0m\u001b[0;34m\u001b[0m\u001b[0m\n\u001b[0m\u001b[1;32m     71\u001b[0m         \u001b[0;32mfinally\u001b[0m\u001b[0;34m:\u001b[0m\u001b[0;34m\u001b[0m\u001b[0;34m\u001b[0m\u001b[0m\n\u001b[1;32m     72\u001b[0m             \u001b[0;32mdel\u001b[0m \u001b[0mfiltered_tb\u001b[0m\u001b[0;34m\u001b[0m\u001b[0;34m\u001b[0m\u001b[0m\n",
            "\u001b[0;32m/usr/local/lib/python3.10/dist-packages/tensorflow/python/eager/execute.py\u001b[0m in \u001b[0;36mquick_execute\u001b[0;34m(op_name, num_outputs, inputs, attrs, ctx, name)\u001b[0m\n\u001b[1;32m     50\u001b[0m   \u001b[0;32mtry\u001b[0m\u001b[0;34m:\u001b[0m\u001b[0;34m\u001b[0m\u001b[0;34m\u001b[0m\u001b[0m\n\u001b[1;32m     51\u001b[0m     \u001b[0mctx\u001b[0m\u001b[0;34m.\u001b[0m\u001b[0mensure_initialized\u001b[0m\u001b[0;34m(\u001b[0m\u001b[0;34m)\u001b[0m\u001b[0;34m\u001b[0m\u001b[0;34m\u001b[0m\u001b[0m\n\u001b[0;32m---> 52\u001b[0;31m     tensors = pywrap_tfe.TFE_Py_Execute(ctx._handle, device_name, op_name,\n\u001b[0m\u001b[1;32m     53\u001b[0m                                         inputs, attrs, num_outputs)\n\u001b[1;32m     54\u001b[0m   \u001b[0;32mexcept\u001b[0m \u001b[0mcore\u001b[0m\u001b[0;34m.\u001b[0m\u001b[0m_NotOkStatusException\u001b[0m \u001b[0;32mas\u001b[0m \u001b[0me\u001b[0m\u001b[0;34m:\u001b[0m\u001b[0;34m\u001b[0m\u001b[0;34m\u001b[0m\u001b[0m\n",
            "\u001b[0;31mInvalidArgumentError\u001b[0m: Graph execution error:\n\nDetected at node 'sequential/conv2d/Relu' defined at (most recent call last):\n    File \"/usr/lib/python3.10/runpy.py\", line 196, in _run_module_as_main\n      return _run_code(code, main_globals, None,\n    File \"/usr/lib/python3.10/runpy.py\", line 86, in _run_code\n      exec(code, run_globals)\n    File \"/usr/local/lib/python3.10/dist-packages/ipykernel_launcher.py\", line 16, in <module>\n      app.launch_new_instance()\n    File \"/usr/local/lib/python3.10/dist-packages/traitlets/config/application.py\", line 992, in launch_instance\n      app.start()\n    File \"/usr/local/lib/python3.10/dist-packages/ipykernel/kernelapp.py\", line 619, in start\n      self.io_loop.start()\n    File \"/usr/local/lib/python3.10/dist-packages/tornado/platform/asyncio.py\", line 195, in start\n      self.asyncio_loop.run_forever()\n    File \"/usr/lib/python3.10/asyncio/base_events.py\", line 603, in run_forever\n      self._run_once()\n    File \"/usr/lib/python3.10/asyncio/base_events.py\", line 1909, in _run_once\n      handle._run()\n    File \"/usr/lib/python3.10/asyncio/events.py\", line 80, in _run\n      self._context.run(self._callback, *self._args)\n    File \"/usr/local/lib/python3.10/dist-packages/tornado/ioloop.py\", line 685, in <lambda>\n      lambda f: self._run_callback(functools.partial(callback, future))\n    File \"/usr/local/lib/python3.10/dist-packages/tornado/ioloop.py\", line 738, in _run_callback\n      ret = callback()\n    File \"/usr/local/lib/python3.10/dist-packages/tornado/gen.py\", line 825, in inner\n      self.ctx_run(self.run)\n    File \"/usr/local/lib/python3.10/dist-packages/tornado/gen.py\", line 786, in run\n      yielded = self.gen.send(value)\n    File \"/usr/local/lib/python3.10/dist-packages/ipykernel/kernelbase.py\", line 361, in process_one\n      yield gen.maybe_future(dispatch(*args))\n    File \"/usr/local/lib/python3.10/dist-packages/tornado/gen.py\", line 234, in wrapper\n      yielded = ctx_run(next, result)\n    File \"/usr/local/lib/python3.10/dist-packages/ipykernel/kernelbase.py\", line 261, in dispatch_shell\n      yield gen.maybe_future(handler(stream, idents, msg))\n    File \"/usr/local/lib/python3.10/dist-packages/tornado/gen.py\", line 234, in wrapper\n      yielded = ctx_run(next, result)\n    File \"/usr/local/lib/python3.10/dist-packages/ipykernel/kernelbase.py\", line 539, in execute_request\n      self.do_execute(\n    File \"/usr/local/lib/python3.10/dist-packages/tornado/gen.py\", line 234, in wrapper\n      yielded = ctx_run(next, result)\n    File \"/usr/local/lib/python3.10/dist-packages/ipykernel/ipkernel.py\", line 302, in do_execute\n      res = shell.run_cell(code, store_history=store_history, silent=silent)\n    File \"/usr/local/lib/python3.10/dist-packages/ipykernel/zmqshell.py\", line 539, in run_cell\n      return super(ZMQInteractiveShell, self).run_cell(*args, **kwargs)\n    File \"/usr/local/lib/python3.10/dist-packages/IPython/core/interactiveshell.py\", line 2975, in run_cell\n      result = self._run_cell(\n    File \"/usr/local/lib/python3.10/dist-packages/IPython/core/interactiveshell.py\", line 3030, in _run_cell\n      return runner(coro)\n    File \"/usr/local/lib/python3.10/dist-packages/IPython/core/async_helpers.py\", line 78, in _pseudo_sync_runner\n      coro.send(None)\n    File \"/usr/local/lib/python3.10/dist-packages/IPython/core/interactiveshell.py\", line 3257, in run_cell_async\n      has_raised = await self.run_ast_nodes(code_ast.body, cell_name,\n    File \"/usr/local/lib/python3.10/dist-packages/IPython/core/interactiveshell.py\", line 3473, in run_ast_nodes\n      if (await self.run_code(code, result,  async_=asy)):\n    File \"/usr/local/lib/python3.10/dist-packages/IPython/core/interactiveshell.py\", line 3553, in run_code\n      exec(code_obj, self.user_global_ns, self.user_ns)\n    File \"<ipython-input-19-3cf58a405222>\", line 13, in <cell line: 13>\n      predictions = emotion_cnn_model.predict_generator(test_generator)\n    File \"/usr/local/lib/python3.10/dist-packages/keras/engine/training.py\", line 2711, in predict_generator\n      return self.predict(\n    File \"/usr/local/lib/python3.10/dist-packages/keras/utils/traceback_utils.py\", line 65, in error_handler\n      return fn(*args, **kwargs)\n    File \"/usr/local/lib/python3.10/dist-packages/keras/engine/training.py\", line 2382, in predict\n      tmp_batch_outputs = self.predict_function(iterator)\n    File \"/usr/local/lib/python3.10/dist-packages/keras/engine/training.py\", line 2169, in predict_function\n      return step_function(self, iterator)\n    File \"/usr/local/lib/python3.10/dist-packages/keras/engine/training.py\", line 2155, in step_function\n      outputs = model.distribute_strategy.run(run_step, args=(data,))\n    File \"/usr/local/lib/python3.10/dist-packages/keras/engine/training.py\", line 2143, in run_step\n      outputs = model.predict_step(data)\n    File \"/usr/local/lib/python3.10/dist-packages/keras/engine/training.py\", line 2111, in predict_step\n      return self(x, training=False)\n    File \"/usr/local/lib/python3.10/dist-packages/keras/utils/traceback_utils.py\", line 65, in error_handler\n      return fn(*args, **kwargs)\n    File \"/usr/local/lib/python3.10/dist-packages/keras/engine/training.py\", line 558, in __call__\n      return super().__call__(*args, **kwargs)\n    File \"/usr/local/lib/python3.10/dist-packages/keras/utils/traceback_utils.py\", line 65, in error_handler\n      return fn(*args, **kwargs)\n    File \"/usr/local/lib/python3.10/dist-packages/keras/engine/base_layer.py\", line 1145, in __call__\n      outputs = call_fn(inputs, *args, **kwargs)\n    File \"/usr/local/lib/python3.10/dist-packages/keras/utils/traceback_utils.py\", line 96, in error_handler\n      return fn(*args, **kwargs)\n    File \"/usr/local/lib/python3.10/dist-packages/keras/engine/sequential.py\", line 412, in call\n      return super().call(inputs, training=training, mask=mask)\n    File \"/usr/local/lib/python3.10/dist-packages/keras/engine/functional.py\", line 512, in call\n      return self._run_internal_graph(inputs, training=training, mask=mask)\n    File \"/usr/local/lib/python3.10/dist-packages/keras/engine/functional.py\", line 669, in _run_internal_graph\n      outputs = node.layer(*args, **kwargs)\n    File \"/usr/local/lib/python3.10/dist-packages/keras/utils/traceback_utils.py\", line 65, in error_handler\n      return fn(*args, **kwargs)\n    File \"/usr/local/lib/python3.10/dist-packages/keras/engine/base_layer.py\", line 1145, in __call__\n      outputs = call_fn(inputs, *args, **kwargs)\n    File \"/usr/local/lib/python3.10/dist-packages/keras/utils/traceback_utils.py\", line 96, in error_handler\n      return fn(*args, **kwargs)\n    File \"/usr/local/lib/python3.10/dist-packages/keras/layers/convolutional/base_conv.py\", line 321, in call\n      return self.activation(outputs)\n    File \"/usr/local/lib/python3.10/dist-packages/keras/activations.py\", line 317, in relu\n      return backend.relu(\n    File \"/usr/local/lib/python3.10/dist-packages/keras/backend.py\", line 5396, in relu\n      x = tf.nn.relu(x)\nNode: 'sequential/conv2d/Relu'\ninput depth must be evenly divisible by filter depth: 1 vs 3\n\t [[{{node sequential/conv2d/Relu}}]] [Op:__inference_predict_function_4843]"
          ]
        }
      ]
    },
    {
      "cell_type": "code",
      "source": [
        "# confusion matrix\n",
        "conf_matrix = confusion_matrix(test_generator.classes, predictions.argmax(axis=1))\n",
        "print(conf_matrix)\n",
        "display_CM = ConfusionMatrixDisplay(confusion_matrix=conf_matrix, display_labels=labels_name)\n",
        "display_CM.plot(cmap=plt.cm.Blues)\n",
        "plt.show()"
      ],
      "metadata": {
        "id": "I-ourgLdC7IL"
      },
      "execution_count": null,
      "outputs": []
    },
    {
      "cell_type": "code",
      "source": [
        "print(classification_report(test_generator.classes, predictions.argmax(axis=1)))"
      ],
      "metadata": {
        "id": "29QltipBC7Lu"
      },
      "execution_count": null,
      "outputs": []
    },
    {
      "cell_type": "code",
      "source": [],
      "metadata": {
        "id": "Sh3UB6ZKC7Ro"
      },
      "execution_count": null,
      "outputs": []
    }
  ]
}