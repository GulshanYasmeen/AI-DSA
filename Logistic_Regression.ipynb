{
  "nbformat": 4,
  "nbformat_minor": 0,
  "metadata": {
    "colab": {
      "provenance": [],
      "authorship_tag": "ABX9TyOs6BaJBW5JyNLUGyh/+Pgw",
      "include_colab_link": true
    },
    "kernelspec": {
      "name": "python3",
      "display_name": "Python 3"
    },
    "language_info": {
      "name": "python"
    }
  },
  "cells": [
    {
      "cell_type": "markdown",
      "metadata": {
        "id": "view-in-github",
        "colab_type": "text"
      },
      "source": [
        "<a href=\"https://colab.research.google.com/github/GulshanYasmeen/AI-DSA/blob/main/Logistic_Regression.ipynb\" target=\"_parent\"><img src=\"https://colab.research.google.com/assets/colab-badge.svg\" alt=\"Open In Colab\"/></a>"
      ]
    },
    {
      "cell_type": "code",
      "execution_count": 1,
      "metadata": {
        "id": "_Uuz3EGSjlDJ"
      },
      "outputs": [],
      "source": [
        "import numpy as np\n",
        "import matplotlib.pyplot as plt\n",
        "from sklearn.model_selection  import train_test_split\n",
        "from sklearn import metrics\n",
        "import pandas as pd\n",
        "from sklearn.metrics import mean_absolute_error\n",
        "from sklearn.linear_model import LogisticRegression\n",
        "from sklearn.metrics import accuracy_score\n",
        "import scipy"
      ]
    },
    {
      "cell_type": "code",
      "source": [
        "def readData(file_name):\n",
        "  data = pd.read_csv(file_name)\n",
        "\n",
        "  X = data[['length','width']]\n",
        "  y = data['Type']\n",
        "  X = np.concatenate((np.ones((X.shape[0],1)),X), axis=1)\n",
        "  return X,y\n",
        "\n"
      ],
      "metadata": {
        "id": "aWP-s0sIvKNg"
      },
      "execution_count": 2,
      "outputs": []
    },
    {
      "cell_type": "code",
      "source": [
        "X, y = readData('/content/dataset.csv')"
      ],
      "metadata": {
        "id": "EQ2-FZ9Ovadf"
      },
      "execution_count": 21,
      "outputs": []
    },
    {
      "cell_type": "code",
      "source": [
        "def LogisticRegressionmodel(X_train,X_test,y_train,y_test):\n",
        "  reg = LogisticRegression(random_state=0).fit(X_train,y_train)\n",
        "  train_acc = reg.score(X_test,y_test)\n",
        "  test_acc = reg.score(X_test,y_test)\n",
        "  y_train_pred = reg.predict(X_train)\n",
        "  y_test_pred = reg.predict(X_test)\n",
        "  train_error = metrics.mean_absolute_error(y_train, y_train_pred)/1000\n",
        "  test_error = metrics.mean_absolute_error(y_test,y_test_pred)/1000\n",
        "  coef = reg.coef_\n",
        "  return test_acc, train_acc,train_error, test_error, coef\n"
      ],
      "metadata": {
        "id": "nWOGOVt0wxMY"
      },
      "execution_count": 14,
      "outputs": []
    },
    {
      "cell_type": "code",
      "source": [
        "X_train, X_test, y_train, y_test = train_test_split(X,y, test_size=0.4)\n",
        "test_acc, train_acc, train_error, test_error, coef = LogisticRegressionmodel(X_train, X_test, y_train, y_test)\n",
        "\n",
        "print(\"Test Accuracy\",test_acc,\"train_accuracy\",train_acc,\"test Error\",test_error,\"Train Error\",train_error)"
      ],
      "metadata": {
        "colab": {
          "base_uri": "https://localhost:8080/"
        },
        "id": "7ogd4Txw0I-J",
        "outputId": "5a532bbe-52ba-4b52-a76f-7d43fc20c45f"
      },
      "execution_count": 17,
      "outputs": [
        {
          "output_type": "stream",
          "name": "stdout",
          "text": [
            "Test Accuracy 1.0 train_accuracy 1.0 test Error 0.0 Train Error 0.0\n"
          ]
        }
      ]
    },
    {
      "cell_type": "code",
      "source": [],
      "metadata": {
        "id": "WVZvSF7I1SWK"
      },
      "execution_count": null,
      "outputs": []
    }
  ]
}