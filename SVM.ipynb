{
  "nbformat": 4,
  "nbformat_minor": 0,
  "metadata": {
    "colab": {
      "provenance": [],
      "authorship_tag": "ABX9TyPLHQXK61bdyUJMjvphYAsC",
      "include_colab_link": true
    },
    "kernelspec": {
      "name": "python3",
      "display_name": "Python 3"
    },
    "language_info": {
      "name": "python"
    }
  },
  "cells": [
    {
      "cell_type": "markdown",
      "metadata": {
        "id": "view-in-github",
        "colab_type": "text"
      },
      "source": [
        "<a href=\"https://colab.research.google.com/github/GulshanYasmeen/AI-DSA/blob/main/SVM.ipynb\" target=\"_parent\"><img src=\"https://colab.research.google.com/assets/colab-badge.svg\" alt=\"Open In Colab\"/></a>"
      ]
    },
    {
      "cell_type": "code",
      "execution_count": 7,
      "metadata": {
        "id": "Pele27QJvcah"
      },
      "outputs": [],
      "source": [
        "import pandas as pd\n",
        "import numpy as np\n",
        "import matplotlib.pyplot as plt\n",
        "from matplotlib.pyplot import figure\n",
        "import seaborn as sns\n",
        "from sklearn.svm import SVC\n",
        "from sklearn.metrics import classification_report,accuracy_score,confusion_matrix\n",
        "from sklearn.model_selection import train_test_split"
      ]
    },
    {
      "cell_type": "code",
      "source": [
        "def readData(file_name):\n",
        "  data = pd.read_csv(file_name)\n",
        "  X = data.drop(['class_type'],axis=1)\n",
        "  y = data['class_type']\n",
        "  return X,y"
      ],
      "metadata": {
        "id": "yNYR1qIpwmR_"
      },
      "execution_count": 8,
      "outputs": []
    },
    {
      "cell_type": "code",
      "source": [
        "accuracy_score,\n",
        "\n",
        "def svm(X,y):\n",
        "  X_train, X_test, y_train, y_test= train_test_split(X,y, stratify =y, test_size=0.4, random_state =0)\n",
        "\n",
        "  model = SVC(kernel='linear')\n",
        "  model.fit(X_train,y_train)\n",
        "\n",
        "  y_train_pred = model.predict(X_train)\n",
        "  print(\"Training Score:\",accuracy_score(y_train,y_train_pred))\n",
        "\n",
        "  y_test_pred = model.predict(X_test)\n",
        "  accuracy = accuracy_score(y_test, y_test_pred)\n",
        "  print(\"Test SCore:\",accuracy)\n",
        "\n",
        "  return y_test_pred, y_test"
      ],
      "metadata": {
        "id": "VxkzilwEwmkN"
      },
      "execution_count": 9,
      "outputs": []
    },
    {
      "cell_type": "code",
      "source": [
        "X, y = readData(\"/content/SVM_dataset.csv\")\n",
        "y_test_pred, y_test = svm(X,y)"
      ],
      "metadata": {
        "colab": {
          "base_uri": "https://localhost:8080/"
        },
        "id": "uVnV1_FO248V",
        "outputId": "e3d5eec2-8630-4298-f44c-01e790e5ae51"
      },
      "execution_count": 10,
      "outputs": [
        {
          "output_type": "stream",
          "name": "stdout",
          "text": [
            "Training Score: 1.0\n",
            "Test SCore: 0.9512195121951219\n"
          ]
        }
      ]
    },
    {
      "cell_type": "code",
      "source": [
        "\n",
        "plt.figure(figsize=(10,8),dpi=100)\n",
        "sns.heatmap(confusion_matrix(y_test,y_test_pred),annot=True)"
      ],
      "metadata": {
        "colab": {
          "base_uri": "https://localhost:8080/",
          "height": 693
        },
        "id": "Yx1uLU1u3Kdk",
        "outputId": "d4c88419-2a05-4d33-ba03-4e5fdc481c6a"
      },
      "execution_count": 11,
      "outputs": [
        {
          "output_type": "execute_result",
          "data": {
            "text/plain": [
              "<Axes: >"
            ]
          },
          "metadata": {},
          "execution_count": 11
        },
        {
          "output_type": "display_data",
          "data": {
            "text/plain": [
              "<Figure size 1000x800 with 2 Axes>"
            ],
            "image/png": "[encoded data removed]"
          },
          "metadata": {}
        }
      ]
    }
  ]
}