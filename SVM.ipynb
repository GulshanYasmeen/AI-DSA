{
  "cells": [
    {
      "cell_type": "markdown",
      "metadata": {
        "id": "view-in-github",
        "colab_type": "text"
      },
      "source": [
        "<a href=\"https://colab.research.google.com/github/GulshanYasmeen/AI-DSA/blob/main/SVM.ipynb\" target=\"_parent\"><img src=\"https://colab.research.google.com/assets/colab-badge.svg\" alt=\"Open In Colab\"/></a>"
      ]
    },
    {
      "cell_type": "code",
      "execution_count": null,
      "metadata": {
        "id": "NGdRHxbKpFTb"
      },
      "outputs": [],
      "source": [
        "import numpy as np\n",
        "import pandas as pd\n",
        "from sklearn.model_selection import train_test_split\n",
        "from sklearn.svm import SVC\n",
        "from sklearn.tree import DecisionTreeClassifier\n",
        "\n",
        "df = pd.read_csv('/content/titanic_clean.csv')\n",
        "#df\n",
        "#df.dtypes"
      ]
    },
    {
      "cell_type": "code",
      "execution_count": null,
      "metadata": {
        "colab": {
          "base_uri": "https://localhost:8080/"
        },
        "id": "3jXsfPVFpdRs",
        "outputId": "db09e4c9-4bd1-4809-e8e8-1a94aad850e1"
      },
      "outputs": [
        {
          "output_type": "stream",
          "name": "stdout",
          "text": [
            "Accuracy 0.8432835820895522\n"
          ]
        }
      ],
      "source": [
        "from sklearn.metrics import accuracy_score\n",
        "df = pd.get_dummies(df, columns =['Pclass','Sex','Embarked','Title','GrpSize','FareCat','AgeCat'])\n",
        "X = df.drop(['Survived','PassengerId'],axis = 1)\n",
        "Y = df['Survived']\n",
        "x_train, X_test, y_train, Y_test = train_test_split(X,Y,test_size = 0.3, random_state=100, shuffle=True)\n",
        "\n",
        "\n",
        "svm_model = SVC(kernel='linear')\n",
        "svm_model.fit(x_train,y_train)\n",
        "\n",
        "y_pred = svm_model.predict(X_test)\n",
        "\n",
        "accuracy = accuracy_score(Y_test,y_pred)\n",
        "print(\"Accuracy\",accuracy)\n"
      ]
    },
    {
      "cell_type": "code",
      "execution_count": null,
      "metadata": {
        "id": "m0soLu1euBCp",
        "colab": {
          "base_uri": "https://localhost:8080/"
        },
        "outputId": "707d7dc5-7138-489d-a4f5-0741864bd8f3"
      },
      "outputs": [
        {
          "output_type": "stream",
          "name": "stdout",
          "text": [
            "Accuracy 0.6902985074626866\n"
          ]
        }
      ],
      "source": [
        "from sklearn.metrics import accuracy_score\n",
        "df = pd.get_dummies(df, columns =['Pclass','Sex','Embarked','Title','GrpSize','FareCat','AgeCat'])\n",
        "X = df.drop(['Survived','PassengerId'],axis = 1)\n",
        "Y = df['Survived']\n",
        "x_train, X_test, y_train, Y_test = train_test_split(X,Y,test_size = 0.3, random_state=100, shuffle=True)\n",
        "\n",
        "\n",
        "svm_model = SVC(kernel='sigmoid')\n",
        "svm_model.fit(x_train,y_train)\n",
        "\n",
        "y_pred = svm_model.predict(X_test)\n",
        "\n",
        "accuracy = accuracy_score(Y_test,y_pred)\n",
        "print(\"Accuracy\",accuracy)"
      ]
    },
    {
      "cell_type": "code",
      "source": [
        "from sklearn.metrics import accuracy_score\n",
        "df = pd.get_dummies(df, columns =['Pclass','Sex','Embarked','Title','GrpSize','FareCat','AgeCat'])\n",
        "X = df.drop(['Survived','PassengerId'],axis = 1)\n",
        "Y = df['Survived']\n",
        "x_train, X_test, y_train, Y_test = train_test_split(X,Y,test_size = 0.3, random_state=100, shuffle=True)\n",
        "\n",
        "\n",
        "svm_model = SVC(kernel='poly')\n",
        "svm_model.fit(x_train,y_train)\n",
        "\n",
        "y_pred = svm_model.predict(X_test)\n",
        "\n",
        "accuracy = accuracy_score(Y_test,y_pred)\n",
        "print(\"Accuracy\",accuracy)"
      ],
      "metadata": {
        "colab": {
          "base_uri": "https://localhost:8080/"
        },
        "id": "MlpdHIPFvHk8",
        "outputId": "5bb486c6-5b82-4b3e-f0cd-7b6ce1ef4a92"
      },
      "execution_count": null,
      "outputs": [
        {
          "output_type": "stream",
          "name": "stdout",
          "text": [
            "Accuracy 0.8171641791044776\n"
          ]
        }
      ]
    },
    {
      "cell_type": "code",
      "source": [],
      "metadata": {
        "id": "Qpfv82ToviIy"
      },
      "execution_count": null,
      "outputs": []
    }
  ],
  "metadata": {
    "colab": {
      "provenance": [],
      "authorship_tag": "ABX9TyOHkSXhdFlpuaLnRB6gsdEr",
      "include_colab_link": true
    },
    "kernelspec": {
      "display_name": "Python 3",
      "name": "python3"
    },
    "language_info": {
      "name": "python"
    }
  },
  "nbformat": 4,
  "nbformat_minor": 0
}