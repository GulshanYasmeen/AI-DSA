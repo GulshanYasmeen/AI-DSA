{
  "nbformat": 4,
  "nbformat_minor": 0,
  "metadata": {
    "colab": {
      "provenance": [],
      "authorship_tag": "ABX9TyOX9mNw/8Rcl96LUMYMX6Co",
      "include_colab_link": true
    },
    "kernelspec": {
      "name": "python3",
      "display_name": "Python 3"
    },
    "language_info": {
      "name": "python"
    }
  },
  "cells": [
    {
      "cell_type": "markdown",
      "metadata": {
        "id": "view-in-github",
        "colab_type": "text"
      },
      "source": [
        "<a href=\"https://colab.research.google.com/github/GulshanYasmeen/AI-DSA/blob/main/Logistic_Regression(spambase_dataset).ipynb\" target=\"_parent\"><img src=\"https://colab.research.google.com/assets/colab-badge.svg\" alt=\"Open In Colab\"/></a>"
      ]
    },
    {
      "cell_type": "code",
      "execution_count": 1,
      "metadata": {
        "id": "_Uuz3EGSjlDJ"
      },
      "outputs": [],
      "source": [
        "import numpy as np\n",
        "import matplotlib.pyplot as plt\n",
        "from sklearn.model_selection  import train_test_split\n",
        "from sklearn import metrics\n",
        "import pandas as pd\n",
        "from sklearn.metrics import mean_absolute_error\n",
        "from sklearn.linear_model import LogisticRegression\n",
        "from sklearn.metrics import accuracy_score\n",
        "import scipy"
      ]
    },
    {
      "cell_type": "code",
      "source": [
        "df = pd.read_csv('/content/spambase_csv.csv')"
      ],
      "metadata": {
        "id": "EQ2-FZ9Ovadf"
      },
      "execution_count": 2,
      "outputs": []
    },
    {
      "cell_type": "code",
      "source": [
        "df=pd.DataFrame(df)\n"
      ],
      "metadata": {
        "id": "Wn7CZNOpCqUZ"
      },
      "execution_count": 3,
      "outputs": []
    },
    {
      "cell_type": "code",
      "source": [
        "# Extract X (features) and y (target variable)\n",
        "X = df.drop('class', axis=1)  # Replace 'target_variable_name' with the actual column name of the target variable\n",
        "y = df['class']  # Replace 'target_variable_name' with the actual column name of the target variable\n",
        "\n",
        "# Print the shape of X and y\n",
        "print(\"X shape:\", X.shape)\n",
        "print(\"y shape:\", y.shape)"
      ],
      "metadata": {
        "colab": {
          "base_uri": "https://localhost:8080/"
        },
        "id": "2Up7gTvGEtYC",
        "outputId": "e1870034-b7ad-48a0-f73f-ca2d9b04a68b"
      },
      "execution_count": 4,
      "outputs": [
        {
          "output_type": "stream",
          "name": "stdout",
          "text": [
            "X shape: (4601, 57)\n",
            "y shape: (4601,)\n"
          ]
        }
      ]
    },
    {
      "cell_type": "code",
      "source": [
        "import seaborn as sns\n",
        "import matplotlib.pyplot as plt\n",
        "sns.boxplot(y=df[\"class\"])\n",
        "plt.show()"
      ],
      "metadata": {
        "colab": {
          "base_uri": "https://localhost:8080/",
          "height": 411
        },
        "id": "-tuec-9zDG0U",
        "outputId": "900d982c-0b34-4849-a7bb-e97b5c67fd68"
      },
      "execution_count": 5,
      "outputs": [
        {
          "output_type": "display_data",
          "data": {
            "text/plain": [
              "<Figure size 640x480 with 1 Axes>"
            ],
            "image/png": "[encoded data removed]"
          },
          "metadata": {}
        }
      ]
    },
    {
      "cell_type": "code",
      "source": [
        "def LogisticRegressionmodel(X_train,X_test,y_train,y_test):\n",
        "  reg = LogisticRegression(random_state=0).fit(X_train,y_train)\n",
        "  train_acc = reg.score(X_test,y_test)\n",
        "  test_acc = reg.score(X_test,y_test)\n",
        "  y_train_pred = reg.predict(X_train)\n",
        "  y_test_pred = reg.predict(X_test)\n",
        "  train_error = metrics.mean_absolute_error(y_train, y_train_pred)/1000\n",
        "  test_error = metrics.mean_absolute_error(y_test,y_test_pred)/1000\n",
        "  coef = reg.coef_\n",
        "  return test_acc, train_acc,train_error, test_error, coef\n"
      ],
      "metadata": {
        "id": "nWOGOVt0wxMY"
      },
      "execution_count": 6,
      "outputs": []
    },
    {
      "cell_type": "code",
      "source": [
        "X_train, X_test, y_train, y_test = train_test_split(X,y, test_size=0.4)\n",
        "test_acc, train_acc, train_error, test_error, coef = LogisticRegressionmodel(X_train, X_test, y_train, y_test)\n",
        "\n",
        "print(\"Test Accuracy\",test_acc,\"train_accuracy\",train_acc,\"test Error\",test_error,\"Train Error\",train_error)"
      ],
      "metadata": {
        "colab": {
          "base_uri": "https://localhost:8080/"
        },
        "id": "7ogd4Txw0I-J",
        "outputId": "53319cfe-cabd-428e-f2b7-c3cb755e9e0d"
      },
      "execution_count": 7,
      "outputs": [
        {
          "output_type": "stream",
          "name": "stdout",
          "text": [
            "Test Accuracy 0.9082020640956002 train_accuracy 0.9082020640956002 test Error 9.179793590439978e-05 Train Error 7.246376811594203e-05\n"
          ]
        },
        {
          "output_type": "stream",
          "name": "stderr",
          "text": [
            "/usr/local/lib/python3.10/dist-packages/sklearn/linear_model/_logistic.py:458: ConvergenceWarning: lbfgs failed to converge (status=1):\n",
            "STOP: TOTAL NO. of ITERATIONS REACHED LIMIT.\n",
            "\n",
            "Increase the number of iterations (max_iter) or scale the data as shown in:\n",
            "    https://scikit-learn.org/stable/modules/preprocessing.html\n",
            "Please also refer to the documentation for alternative solver options:\n",
            "    https://scikit-learn.org/stable/modules/linear_model.html#logistic-regression\n",
            "  n_iter_i = _check_optimize_result(\n"
          ]
        }
      ]
    },
    {
      "cell_type": "code",
      "source": [],
      "metadata": {
        "id": "WVZvSF7I1SWK"
      },
      "execution_count": null,
      "outputs": []
    }
  ]
}