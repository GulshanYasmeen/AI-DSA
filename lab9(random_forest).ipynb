{
  "nbformat": 4,
  "nbformat_minor": 0,
  "metadata": {
    "colab": {
      "provenance": [],
      "authorship_tag": "ABX9TyOU1ajN97omnBOMMyGZU6DB",
      "include_colab_link": true
    },
    "kernelspec": {
      "name": "python3",
      "display_name": "Python 3"
    },
    "language_info": {
      "name": "python"
    }
  },
  "cells": [
    {
      "cell_type": "markdown",
      "metadata": {
        "id": "view-in-github",
        "colab_type": "text"
      },
      "source": [
        "<a href=\"https://colab.research.google.com/github/GulshanYasmeen/AI-DSA/blob/main/lab9(random_forest).ipynb\" target=\"_parent\"><img src=\"https://colab.research.google.com/assets/colab-badge.svg\" alt=\"Open In Colab\"/></a>"
      ]
    },
    {
      "cell_type": "code",
      "execution_count": null,
      "metadata": {
        "colab": {
          "base_uri": "https://localhost:8080/"
        },
        "id": "dH11xDl3NwVV",
        "outputId": "33017eb2-68b0-4104-fa84-8d657225370d"
      },
      "outputs": [
        {
          "output_type": "stream",
          "name": "stdout",
          "text": [
            "Accuracy:0.7835820895522388\n"
          ]
        }
      ],
      "source": [
        "import numpy as np\n",
        "import pandas as pd\n",
        "from sklearn.model_selection import train_test_split\n",
        "from sklearn.metrics import accuracy_score\n",
        "from sklearn.tree import DecisionTreeClassifier\n",
        "\n",
        "df = pd.read_csv('/content/titanic_clean.csv')\n",
        "df\n",
        "###data cleaning and processing\n",
        "\n",
        "df_OneHot = pd.get_dummies(df, columns=['Pclass','Sex','Embarked','Title','GrpSize','FareCat','AgeCat'])\n",
        "df = df_OneHot\n",
        "df\n",
        "\n",
        "X = df.drop(['Survived','PassengerId'],axis=1)\n",
        "\n",
        "Y = df['Survived']\n",
        "\n",
        "xtrain,xtest,ytrain,ytest=train_test_split(X,Y,test_size=0.3,random_state=100,shuffle=True)\n",
        "\n",
        "clf_dt = DecisionTreeClassifier(criterion='gini')\n",
        "clf_dt.fit(xtrain,ytrain)\n",
        "\n",
        "dt_pred = clf_dt.predict(xtest)\n",
        "dt_pred_prb = clf_dt.predict_proba(xtest)[:,1]\n",
        "\n",
        "accuracy_dt = accuracy_score(ytest,dt_pred)\n",
        "print(\"Accuracy:{}\".format(accuracy_dt))"
      ]
    },
    {
      "cell_type": "code",
      "source": [],
      "metadata": {
        "id": "gSOGtvuMRf3a"
      },
      "execution_count": null,
      "outputs": []
    }
  ]
}